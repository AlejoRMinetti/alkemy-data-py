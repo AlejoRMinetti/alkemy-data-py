{
 "cells": [
  {
   "cell_type": "markdown",
   "metadata": {},
   "source": [
    "Importamos los modulos de creacion de los archivos CSV a partir de las fuentes propuestas"
   ]
  },
  {
   "cell_type": "code",
   "execution_count": 8,
   "metadata": {},
   "outputs": [],
   "source": [
    "from csvData import save_data_to_csv\n",
    "# museos: https://datos.gob.ar/dataset/cultura-mapa-cultural-espacios-culturales/archivo/cultura_4207def0-2ff7-41d5-9095-d42ae8207a5d\n",
    "save_data_to_csv('museos', \n",
    "    'https://datos.gob.ar/api/3/action/datastore_search?resource_id=cultura_4207def0-2ff7-41d5-9095-d42ae8207a5d')\n",
    "\n",
    "# salas_cine: https://datos.gob.ar/dataset/cultura-mapa-cultural-espacios-culturales/archivo/cultura_392ce1a8-ef11-4776-b280-6f1c7fae16ae\n",
    "save_data_to_csv(\"salas_cine\", \n",
    "'https://datos.gob.ar/api/3/action/datastore_search?resource_id=cultura_392ce1a8-ef11-4776-b280-6f1c7fae16ae')\n",
    "\n",
    "# bibliotecas: https://datos.gob.ar/dataset/cultura-mapa-cultural-espacios-culturales/archivo/cultura_01c6c048-dbeb-44e0-8efa-6944f73715d7\n",
    "save_data_to_csv('bibliotecas','https://datos.gob.ar/api/3/action/datastore_search?resource_id=cultura_01c6c048-dbeb-44e0-8efa-6944f73715d7')\n"
   ]
  },
  {
   "cell_type": "markdown",
   "metadata": {},
   "source": [
    "Creamos los DataFrames a partir de los .csv guardados"
   ]
  },
  {
   "cell_type": "code",
   "execution_count": 13,
   "metadata": {},
   "outputs": [
    {
     "name": "stdout",
     "output_type": "stream",
     "text": [
      "Columns of: museos-8-2-2022.csv\n",
      "\n",
      "<class 'pandas.core.frame.DataFrame'>\n",
      "RangeIndex: 100 entries, 0 to 99\n",
      "Data columns (total 21 columns):\n",
      " #   Column                      Non-Null Count  Dtype  \n",
      "---  ------                      --------------  -----  \n",
      " 0   latitud                     100 non-null    Float64\n",
      " 1   direccion                   100 non-null    string \n",
      " 2   anio_de_inauguracion        82 non-null     Int64  \n",
      " 3   provincia                   100 non-null    string \n",
      " 4   web                         6 non-null      string \n",
      " 5   espacio_cultural_id         100 non-null    Int64  \n",
      " 6   fuente                      100 non-null    string \n",
      " 7   observaciones               16 non-null     string \n",
      " 8   provincia_id                100 non-null    Int64  \n",
      " 9   descripcion_de_patrimonio   99 non-null     string \n",
      " 10  localidad_id                100 non-null    Int64  \n",
      " 11  codigo_postal               100 non-null    string \n",
      " 12  juridisccion                97 non-null     string \n",
      " 13  anio_de_creacion            75 non-null     Int64  \n",
      " 14  mail                        25 non-null     string \n",
      " 15  localidad                   100 non-null    string \n",
      " 16  nombre                      100 non-null    string \n",
      " 17  telefono                    96 non-null     Int64  \n",
      " 18  codigo_indicativo_telefono  96 non-null     Int64  \n",
      " 19  longitud                    100 non-null    Float64\n",
      " 20  categoria                   100 non-null    string \n",
      "dtypes: Float64(2), Int64(7), string(12)\n",
      "memory usage: 17.4 KB\n",
      "None\n",
      "\n",
      "\n"
     ]
    }
   ],
   "source": [
    "\n",
    "import datetime\n",
    "## read csv to dataframe:\n",
    "day = datetime.datetime.now().day\n",
    "month = datetime.datetime.now().month\n",
    "year = datetime.datetime.now().year\n",
    "df_museos = csv_to_dataframe('museos', day, month, year, show_info=True)"
   ]
  },
  {
   "cell_type": "code",
   "execution_count": 15,
   "metadata": {},
   "outputs": [
    {
     "name": "stdout",
     "output_type": "stream",
     "text": [
      "First data of: salas_cine-8-2-2022.csv\n",
      "\n",
      "                                                 Web       tipo_gestion Piso  \\\n",
      "0                    http://www.cinemacenter.com.ar/  Privado comercial  s/d   \n",
      "1                                                s/d  Privado comercial  s/d   \n",
      "2       http://resistencia.loscinesdelacosta.com.ar/  Privado comercial  s/d   \n",
      "3  http://www.culturachubut.gob.ar/…/convo-evita-...  Público municipal  s/d   \n",
      "4   https://www.facebook.com/CineFantasioBellaVista/  Privado comercial  s/d   \n",
      "\n",
      "    Provincia   TipoLatitudLongitud                       Nombre  \\\n",
      "0   Catamarca  Localización precisa                 Cinemacenter   \n",
      "1   Catamarca  Localización precisa  Centro Cultural San Agustín   \n",
      "2       Chaco  Localización precisa        Los Cines De La Costa   \n",
      "3      Chubut  Localización precisa    Deborah Jones De Williams   \n",
      "4  Corrientes  Localización precisa                     Fantasio   \n",
      "\n",
      "                                      Mail   Cod_Loc  Observaciones  \\\n",
      "0                                      s/d  10049030           <NA>   \n",
      "1                                      s/d  10091150           <NA>   \n",
      "2  administracion@loscinesdelacosta.com.ar  22140060           <NA>   \n",
      "3             culturasarmiento@hotmail.com  26091020           <NA>   \n",
      "4             nuevocineteatrorex@gmail.com  18007010           <NA>   \n",
      "\n",
      "   Departamento  ... Información adicional    Latitud  Teléfono  \\\n",
      "0       Capital  ...                  <NA> -28.464737       s/d   \n",
      "1   Santa Maria  ...                  <NA> -26.693859    421511   \n",
      "2  San Fernando  ...                  <NA> -27.430995    472200   \n",
      "3     Sarmiento  ...                  <NA> -45.594374   4897169   \n",
      "4   Bella Vista  ...                  <NA> -28.508494       s/d   \n",
      "\n",
      "          Fuente año_actualizacion IdProvincia  cod_area  Pantallas  \\\n",
      "0  INCAA / SInCA              2018          10       s/d          5   \n",
      "1  INCAA / SInCA              2018          10      3838          1   \n",
      "2  INCAA / SInCA              2018          22      3794          5   \n",
      "3  INCAA / SInCA              2018          26       297          1   \n",
      "4  INCAA / SInCA              2018          18       s/d          1   \n",
      "\n",
      "   IdDepartamento   categoria  \n",
      "0           10049  salas_cine  \n",
      "1           10091  salas_cine  \n",
      "2           22140  salas_cine  \n",
      "3           26091  salas_cine  \n",
      "4           18007  salas_cine  \n",
      "\n",
      "[5 rows x 27 columns]\n",
      "\n",
      "\n",
      "Columns of: salas_cine-8-2-2022.csv\n",
      "\n",
      "<class 'pandas.core.frame.DataFrame'>\n",
      "RangeIndex: 100 entries, 0 to 99\n",
      "Data columns (total 27 columns):\n",
      " #   Column                 Non-Null Count  Dtype  \n",
      "---  ------                 --------------  -----  \n",
      " 0   Web                    100 non-null    string \n",
      " 1   tipo_gestion           100 non-null    string \n",
      " 2   Piso                   100 non-null    string \n",
      " 3   Provincia              100 non-null    string \n",
      " 4   TipoLatitudLongitud    100 non-null    string \n",
      " 5   Nombre                 100 non-null    string \n",
      " 6   Mail                   100 non-null    string \n",
      " 7   Cod_Loc                100 non-null    Int64  \n",
      " 8   Observaciones          0 non-null      Int64  \n",
      " 9   Departamento           100 non-null    string \n",
      " 10  Categoría              100 non-null    string \n",
      " 11  Longitud               100 non-null    Float64\n",
      " 12  Butacas                100 non-null    Int64  \n",
      " 13  espacio_INCAA          14 non-null     string \n",
      " 14  Dirección              100 non-null    string \n",
      " 15  Localidad              100 non-null    string \n",
      " 16  CP                     100 non-null    Int64  \n",
      " 17  Información adicional  0 non-null      Int64  \n",
      " 18  Latitud                100 non-null    Float64\n",
      " 19  Teléfono               100 non-null    string \n",
      " 20  Fuente                 100 non-null    string \n",
      " 21  año_actualizacion      100 non-null    Int64  \n",
      " 22  IdProvincia            100 non-null    Int64  \n",
      " 23  cod_area               100 non-null    string \n",
      " 24  Pantallas              100 non-null    Int64  \n",
      " 25  IdDepartamento         100 non-null    Int64  \n",
      " 26  categoria              100 non-null    string \n",
      "dtypes: Float64(2), Int64(9), string(16)\n",
      "memory usage: 22.3 KB\n",
      "None\n",
      "\n",
      "\n"
     ]
    }
   ],
   "source": [
    "df_salas_cine = csv_to_dataframe('salas_cine', day, month, year, show_head=True, show_info=True)"
   ]
  },
  {
   "cell_type": "code",
   "execution_count": 14,
   "metadata": {},
   "outputs": [
    {
     "name": "stdout",
     "output_type": "stream",
     "text": [
      "Columns of: bibliotecas-8-2-2022.csv\n",
      "\n",
      "<class 'pandas.core.frame.DataFrame'>\n",
      "RangeIndex: 100 entries, 0 to 99\n",
      "Data columns (total 26 columns):\n",
      " #   Column                 Non-Null Count  Dtype  \n",
      "---  ------                 --------------  -----  \n",
      " 0   Web                    0 non-null      Int64  \n",
      " 1   Piso                   0 non-null      Int64  \n",
      " 2   Provincia              100 non-null    string \n",
      " 3   Año_actualizacion      100 non-null    Int64  \n",
      " 4   Cod_tel                100 non-null    string \n",
      " 5   TipoLatitudLongitud    100 non-null    string \n",
      " 6   Subcategoria           0 non-null      Int64  \n",
      " 7   Observacion            0 non-null      Int64  \n",
      " 8   Mail                   100 non-null    string \n",
      " 9   Cod_Loc                100 non-null    Int64  \n",
      " 10  Tipo_gestion           100 non-null    string \n",
      " 11  Departamento           100 non-null    string \n",
      " 12  año_inicio             100 non-null    Int64  \n",
      " 13  Categoría              100 non-null    string \n",
      " 14  Longitud               100 non-null    Float64\n",
      " 15  Localidad              100 non-null    string \n",
      " 16  CP                     100 non-null    string \n",
      " 17  Información adicional  0 non-null      Int64  \n",
      " 18  Latitud                100 non-null    Float64\n",
      " 19  Teléfono               100 non-null    string \n",
      " 20  Fuente                 100 non-null    string \n",
      " 21  IdProvincia            100 non-null    Int64  \n",
      " 22  Nombre                 100 non-null    string \n",
      " 23  Domicilio              100 non-null    string \n",
      " 24  IdDepartamento         100 non-null    Int64  \n",
      " 25  categoria              100 non-null    string \n",
      "dtypes: Float64(2), Int64(10), string(14)\n",
      "memory usage: 21.6 KB\n",
      "None\n",
      "\n",
      "\n"
     ]
    }
   ],
   "source": [
    "df_bibliotecas = csv_to_dataframe('bibliotecas', day, month, year, show_info=True)"
   ]
  },
  {
   "cell_type": "markdown",
   "metadata": {},
   "source": [
    "Limpieza de datos: eliminar columnas todas vacias"
   ]
  },
  {
   "cell_type": "code",
   "execution_count": 18,
   "metadata": {},
   "outputs": [
    {
     "name": "stdout",
     "output_type": "stream",
     "text": [
      "<class 'pandas.core.frame.DataFrame'>\n",
      "RangeIndex: 100 entries, 0 to 99\n",
      "Data columns (total 21 columns):\n",
      " #   Column               Non-Null Count  Dtype  \n",
      "---  ------               --------------  -----  \n",
      " 0   Provincia            100 non-null    string \n",
      " 1   Año_actualizacion    100 non-null    Int64  \n",
      " 2   Cod_tel              100 non-null    string \n",
      " 3   TipoLatitudLongitud  100 non-null    string \n",
      " 4   Mail                 100 non-null    string \n",
      " 5   Cod_Loc              100 non-null    Int64  \n",
      " 6   Tipo_gestion         100 non-null    string \n",
      " 7   Departamento         100 non-null    string \n",
      " 8   año_inicio           100 non-null    Int64  \n",
      " 9   Categoría            100 non-null    string \n",
      " 10  Longitud             100 non-null    Float64\n",
      " 11  Localidad            100 non-null    string \n",
      " 12  CP                   100 non-null    string \n",
      " 13  Latitud              100 non-null    Float64\n",
      " 14  Teléfono             100 non-null    string \n",
      " 15  Fuente               100 non-null    string \n",
      " 16  IdProvincia          100 non-null    Int64  \n",
      " 17  Nombre               100 non-null    string \n",
      " 18  Domicilio            100 non-null    string \n",
      " 19  IdDepartamento       100 non-null    Int64  \n",
      " 20  categoria            100 non-null    string \n",
      "dtypes: Float64(2), Int64(5), string(14)\n",
      "memory usage: 17.2 KB\n"
     ]
    }
   ],
   "source": [
    "df_bibliotecas.dropna(how='all', axis=1, inplace=True)\n",
    "df_bibliotecas.info()"
   ]
  },
  {
   "cell_type": "code",
   "execution_count": 19,
   "metadata": {},
   "outputs": [
    {
     "name": "stdout",
     "output_type": "stream",
     "text": [
      "<class 'pandas.core.frame.DataFrame'>\n",
      "RangeIndex: 100 entries, 0 to 99\n",
      "Data columns (total 25 columns):\n",
      " #   Column               Non-Null Count  Dtype  \n",
      "---  ------               --------------  -----  \n",
      " 0   Web                  100 non-null    string \n",
      " 1   tipo_gestion         100 non-null    string \n",
      " 2   Piso                 100 non-null    string \n",
      " 3   Provincia            100 non-null    string \n",
      " 4   TipoLatitudLongitud  100 non-null    string \n",
      " 5   Nombre               100 non-null    string \n",
      " 6   Mail                 100 non-null    string \n",
      " 7   Cod_Loc              100 non-null    Int64  \n",
      " 8   Departamento         100 non-null    string \n",
      " 9   Categoría            100 non-null    string \n",
      " 10  Longitud             100 non-null    Float64\n",
      " 11  Butacas              100 non-null    Int64  \n",
      " 12  espacio_INCAA        14 non-null     string \n",
      " 13  Dirección            100 non-null    string \n",
      " 14  Localidad            100 non-null    string \n",
      " 15  CP                   100 non-null    Int64  \n",
      " 16  Latitud              100 non-null    Float64\n",
      " 17  Teléfono             100 non-null    string \n",
      " 18  Fuente               100 non-null    string \n",
      " 19  año_actualizacion    100 non-null    Int64  \n",
      " 20  IdProvincia          100 non-null    Int64  \n",
      " 21  cod_area             100 non-null    string \n",
      " 22  Pantallas            100 non-null    Int64  \n",
      " 23  IdDepartamento       100 non-null    Int64  \n",
      " 24  categoria            100 non-null    string \n",
      "dtypes: Float64(2), Int64(7), string(16)\n",
      "memory usage: 20.5 KB\n"
     ]
    }
   ],
   "source": [
    "df_salas_cine.dropna(how='all', axis=1, inplace=True)\n",
    "df_salas_cine.info()"
   ]
  }
 ],
 "metadata": {
  "interpreter": {
   "hash": "2175c0c658e7eb78b1d57bde256642f58c1e8eafeaa591afd0213af9a7f8b1f0"
  },
  "kernelspec": {
   "display_name": "Python 3.9.9 64-bit",
   "language": "python",
   "name": "python3"
  },
  "language_info": {
   "codemirror_mode": {
    "name": "ipython",
    "version": 3
   },
   "file_extension": ".py",
   "mimetype": "text/x-python",
   "name": "python",
   "nbconvert_exporter": "python",
   "pygments_lexer": "ipython3",
   "version": "3.9.9"
  },
  "orig_nbformat": 4
 },
 "nbformat": 4,
 "nbformat_minor": 2
}
